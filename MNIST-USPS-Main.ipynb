{
 "cells": [
  {
   "cell_type": "markdown",
   "metadata": {},
   "source": [
    "## Load MNIST on Python 3.x"
   ]
  },
  {
   "cell_type": "code",
   "execution_count": 2,
   "metadata": {},
   "outputs": [],
   "source": [
    "import pickle\n",
    "import gzip"
   ]
  },
  {
   "cell_type": "code",
   "execution_count": 3,
   "metadata": {},
   "outputs": [
    {
     "name": "stdout",
     "output_type": "stream",
     "text": [
      "(50000, 784) (50000,)\n",
      "(10000, 784) (10000,)\n",
      "(10000, 784) (10000,)\n",
      "[5 0 4 ... 8 4 8]\n",
      "5\n"
     ]
    }
   ],
   "source": [
    "filename = 'mnist.pkl.gz'\n",
    "f = gzip.open(filename, 'rb')\n",
    "training_data, validation_data, test_data = pickle.load(f, encoding='latin1')\n",
    "#print(training_data)\n",
    "print(training_data[0].shape,training_data[1].shape)#(Total 2)1th:50000*784,2nd:list(50000,)\n",
    "print(validation_data[0].shape,validation_data[1].shape)#(Total 2)1th:10000*784,2nd:list(10000,)\n",
    "print(test_data[0].shape,test_data[1].shape)#(Total 2)1th:10000*784,2nd:list(10000,)\n",
    "f.close()\n",
    "\n",
    "print(training_data[1])\n",
    "print(training_data[1][0])"
   ]
  },
  {
   "cell_type": "markdown",
   "metadata": {},
   "source": [
    "## Load USPS on Python 3.x"
   ]
  },
  {
   "cell_type": "code",
   "execution_count": 4,
   "metadata": {},
   "outputs": [],
   "source": [
    "from PIL import Image\n",
    "import os\n",
    "import numpy as np"
   ]
  },
  {
   "cell_type": "code",
   "execution_count": 5,
   "metadata": {},
   "outputs": [
    {
     "name": "stdout",
     "output_type": "stream",
     "text": [
      "<PIL.Image.Image image mode=P size=28x28 at 0x2279F5D7080>\n"
     ]
    }
   ],
   "source": [
    "USPSMat  = []\n",
    "USPSTar  = []\n",
    "curPath  = 'USPSdata/Numerals'\n",
    "savedImg = []\n",
    "\n",
    "for j in range(0,10):\n",
    "    curFolderPath = curPath + '/' + str(j)\n",
    "    imgs =  os.listdir(curFolderPath)\n",
    "    for img in imgs:\n",
    "        curImg = curFolderPath + '/' + img\n",
    "        if curImg[-3:] == 'png':\n",
    "            img = Image.open(curImg,'r')\n",
    "            img = img.resize((28, 28))\n",
    "            savedImg = img\n",
    "            imgdata = (255-np.array(img.getdata()))/255\n",
    "            USPSMat.append(imgdata)\n",
    "            USPSTar.append(j)\n",
    "            \n",
    "#print(len(USPSMat))\n",
    "#print(len(USPSTar))\n",
    "#print(USPSMat)\n",
    "print(savedImg)"
   ]
  },
  {
   "cell_type": "markdown",
   "metadata": {},
   "source": [
    "# Header File and Libraries"
   ]
  },
  {
   "cell_type": "code",
   "execution_count": 6,
   "metadata": {},
   "outputs": [],
   "source": [
    "from sklearn.cluster import KMeans\n",
    "import numpy as np\n",
    "import pandas as pd\n",
    "import csv\n",
    "import math\n",
    "import matplotlib.pyplot\n",
    "from matplotlib import pyplot as plt\n"
   ]
  },
  {
   "cell_type": "markdown",
   "metadata": {},
   "source": [
    "# Multification For Logistic Regression"
   ]
  },
  {
   "cell_type": "markdown",
   "metadata": {},
   "source": [
    "Preprocess"
   ]
  },
  {
   "cell_type": "code",
   "execution_count": 7,
   "metadata": {},
   "outputs": [
    {
     "name": "stdout",
     "output_type": "stream",
     "text": [
      "(50000, 784)\n",
      "(1, 50000)\n",
      "[[5 0 4 ... 8 4 8]]\n",
      "1\n",
      "2\n",
      "784\n",
      "0.0\n",
      "(784,)\n"
     ]
    }
   ],
   "source": [
    "learningrate=0.005\n",
    "L_Erms_Val   = []  \n",
    "L_Erms_TR    = []\n",
    "L_Erms_Test  = [] \n",
    "L_Accu_TR = []\n",
    "L_Accu_Val=[]\n",
    "L_Accu_Test=[]\n",
    "\n",
    "X=training_data[0]\n",
    "Y=np.matrix(training_data[1])\n",
    "\n",
    "M=validation_data[0]\n",
    "N=np.matrix(validation_data[1])\n",
    "\n",
    "O=test_data[0]\n",
    "P=np.matrix(test_data[1])\n",
    "\n",
    "theta_n=np.zeros((10,784))#every pair's features\n",
    "theta_now=np.matrix(theta_n)\n",
    "\n",
    "print(X.shape)\n",
    "print(Y.shape)\n",
    "print(Y)\n",
    "print(Y.shape[0])\n",
    "print(Y[0,5])\n",
    "print(theta_now.shape[1])\n",
    "print(theta_now[0,0])\n",
    "\n",
    "print(X[2].shape)\n"
   ]
  },
  {
   "cell_type": "markdown",
   "metadata": {},
   "source": [
    "# Onehot for MNIST targets"
   ]
  },
  {
   "cell_type": "code",
   "execution_count": 8,
   "metadata": {},
   "outputs": [
    {
     "name": "stdout",
     "output_type": "stream",
     "text": [
      "Onehot encoding:\n",
      "[[0. 0. 0. ... 0. 0. 0.]\n",
      " [1. 0. 0. ... 0. 0. 0.]\n",
      " [0. 0. 0. ... 0. 0. 0.]\n",
      " ...\n",
      " [0. 0. 0. ... 0. 1. 0.]\n",
      " [0. 0. 0. ... 0. 0. 0.]\n",
      " [0. 0. 0. ... 0. 1. 0.]]\n",
      "(50000, 10)\n",
      "[0. 0. 0. 0. 0. 1. 0. 0. 0. 0.]\n"
     ]
    },
    {
     "name": "stderr",
     "output_type": "stream",
     "text": [
      "S:\\Anaconda\\lib\\site-packages\\sklearn\\preprocessing\\_encoders.py:363: FutureWarning: The handling of integer data will change in version 0.22. Currently, the categories are determined based on the range [0, max(values)], while in the future they will be determined based on the unique values.\n",
      "If you want the future behaviour and silence this warning, you can specify \"categories='auto'\".\n",
      "In case you used a LabelEncoder before this OneHotEncoder to convert the categories to integers, then you can now use the OneHotEncoder directly.\n",
      "  warnings.warn(msg, FutureWarning)\n",
      "S:\\Anaconda\\lib\\site-packages\\sklearn\\preprocessing\\_encoders.py:363: FutureWarning: The handling of integer data will change in version 0.22. Currently, the categories are determined based on the range [0, max(values)], while in the future they will be determined based on the unique values.\n",
      "If you want the future behaviour and silence this warning, you can specify \"categories='auto'\".\n",
      "In case you used a LabelEncoder before this OneHotEncoder to convert the categories to integers, then you can now use the OneHotEncoder directly.\n",
      "  warnings.warn(msg, FutureWarning)\n",
      "S:\\Anaconda\\lib\\site-packages\\sklearn\\preprocessing\\_encoders.py:363: FutureWarning: The handling of integer data will change in version 0.22. Currently, the categories are determined based on the range [0, max(values)], while in the future they will be determined based on the unique values.\n",
      "If you want the future behaviour and silence this warning, you can specify \"categories='auto'\".\n",
      "In case you used a LabelEncoder before this OneHotEncoder to convert the categories to integers, then you can now use the OneHotEncoder directly.\n",
      "  warnings.warn(msg, FutureWarning)\n"
     ]
    }
   ],
   "source": [
    "from numpy import array\n",
    "from numpy import argmax\n",
    "\n",
    "from sklearn.preprocessing import LabelEncoder\n",
    "from sklearn.preprocessing import OneHotEncoder\n",
    "def onehot(values):\n",
    "    label_encoder = LabelEncoder()\n",
    "    integer_encoded = label_encoder.fit_transform(values)\n",
    "    #print(integer_encoded)\n",
    "\n",
    "    #onehot\n",
    "    onehot_encoder = OneHotEncoder(sparse=False)\n",
    "    integer_encoded = integer_encoded.reshape(len(integer_encoded), 1)\n",
    "    onehot_encoded = onehot_encoder.fit_transform(integer_encoded)\n",
    "    return onehot_encoded\n",
    "\n",
    "new=Y.tolist()\n",
    "onehotvector=new[0]\n",
    "\n",
    "print(\"Onehot encoding:\")\n",
    "print(onehot(onehotvector))\n",
    "\n",
    "print((onehot(onehotvector)).shape)\n",
    "print((onehot(onehotvector))[0])"
   ]
  },
  {
   "cell_type": "markdown",
   "metadata": {},
   "source": [
    "# Main body(MNIST)"
   ]
  },
  {
   "cell_type": "code",
   "execution_count": null,
   "metadata": {},
   "outputs": [],
   "source": [
    "def softmax(x):\n",
    "    #assert len(z.shape) == 2\n",
    "    #s = np.max(z, axis=1)\n",
    "    # necessary step to do broadcasting\n",
    "    #s = s[:, np.newaxis]#(increase dimensionality(in the column) of the ROW):[5] to [5][1] \n",
    "    #e_x = np.exp(z - s)\n",
    "    #div = np.sum(e_x, axis=1)\n",
    "    #div = div[:, np.newaxis] # dito\n",
    "    #return e_x / div\n",
    "    #softmax_x= [] \n",
    "    #exp_x=np.zeros((1,10))\n",
    "    #exp_x=np.matrix(exp_x)\n",
    "    #for i in range(10):\n",
    "        #exp_x[i]= math.exp(x[0][i])\n",
    "        #softmax_x = np.append(exp_x[i] / sum(exp_x[i]))\n",
    "    e_x = np.exp(x - np.max(x))\n",
    "    return e_x / e_x.sum()\n",
    "   \n",
    "def softmaxindex(z):\n",
    "   # assert len(z.shape) == 2\n",
    "    s = np.argmax(z, axis=1)\n",
    "    return s\n",
    "\n",
    "\n",
    "def gradient(theta,feature,target):\n",
    "    c=np.dot(feature,theta.T)#1*784 784*10=1*10\n",
    "    b=c.tolist()\n",
    "    d=b[0]\n",
    "    a=softmax(d)\n",
    "    a=np.matrix(a)\n",
    "    error=a-target\n",
    "    error=np.matrix(error)\n",
    "    print(error)\n",
    "    #print(softmax(np.dot(feature,theta.T)))\n",
    "    grad=np.dot(error.T,feature)#10*1 1*784\n",
    "    grad=np.matrix(grad)\n",
    "    return grad\n",
    "\n",
    "def predict(theta,feature):\n",
    "    probability=softmaxindex(np.dot(feature,theta.T))\n",
    "    #print(\"****Our predictions******\")\n",
    "    #print(probability)\n",
    "    return probability\n",
    "\n",
    "def GetLErms(predict,target):\n",
    "    sum = 0\n",
    "    counter = 0\n",
    "    predict=np.matrix(predict)\n",
    "    target=np.matrix(target)\n",
    "    len=predict.shape[0]\n",
    "    for i in range (0,len):\n",
    "        #sum = sum + math.pow((target[i][0] - predict[i][0]),2)  #square error\n",
    "        if(predict[i,0]== target[i,0]):\n",
    "            counter+=1  #correct prediction and increment \n",
    "    accuracy = (float((counter))/float(len))###counter*100\n",
    "    return (str(accuracy))    \n",
    "    \n",
    "for i in range(2000):\n",
    "    delta_theta=gradient(theta_now,np.matrix(X[i]),(onehot(onehotvector))[i])#:1*784\n",
    "    print(delta_theta)\n",
    "    updatevalue=np.dot(learningrate,delta_theta)\n",
    "    #updatevalue=np.array(updatevalue)\n",
    "    theta_next=theta_now-updatevalue\n",
    "    theta_now=theta_next#:10*784\n",
    "    #print(theta_now)\n",
    "    \n",
    "    #-----------------TrainingData Erms---------------------#\n",
    "    TR_TEST_OUT   = predict(theta_now,X)#:50000*1\n",
    "    Erms_TR       = GetLErms(TR_TEST_OUT,Y.T)\n",
    "    L_Accu_TR.append(float(Erms_TR))\n",
    "    \n",
    "    #-----------------ValidationData Erms---------------------#\n",
    "    VAL_TEST_OUT  = predict(theta_now,M)#\n",
    "    Erms_Val      = GetLErms(VAL_TEST_OUT,N.T)\n",
    "    L_Accu_Val.append(float(Erms_Val))\n",
    "    \n",
    "    #-----------------TestingData Erms---------------------#\n",
    "    TEST_OUT      = predict(theta_now,O)\n",
    "    Erms_Test = GetLErms(TEST_OUT,P.T)\n",
    "    L_Accu_Test.append(float(Erms_Test))\n",
    "    print(Erms_Test)\n",
    "\n",
    "print (\"Training accuracy  = \" +str(np.around(max(L_Accu_TR),5)))\n",
    "print (\"Validation accuracy= \" +str(np.around(max(L_Accu_Val),5)))  \n",
    "print (\"Testing accuracy   = \" +str(np.around(max(L_Accu_Test),5))) \n",
    "\n",
    "#pd.Series(float(np.around((Erms_Test),5))).plot()\n",
    "#plt.show()"
   ]
  },
  {
   "cell_type": "code",
   "execution_count": null,
   "metadata": {},
   "outputs": [],
   "source": [
    "#Expextations of Accuracies\n",
    "def averageaccuracy(Data):\n",
    "    sum=0.0\n",
    "    for i in range(len(Data)):\n",
    "        sum+=Data[i]\n",
    "    averageaccuracy=sum/len(Data)\n",
    "    return averageaccuracy \n",
    "\n",
    "TrainingAccuracy   = str(GetLErms(TR_TEST_OUT,Trainingtarget))\n",
    "ValidationAccuracy = str(GetLErms(VAL_TEST_OUT,ValdataAct))\n",
    "TestAccuracy       = str(GetLErms(TEST_OUT,TestdataAct))\n",
    "print('TRaverageaccuracy=',averageaccuracy(L_Accu_TR))\n",
    "print('Valaverageaccuracy=',averageaccuracy(L_Accu_Val))\n",
    "print('Testaverageaccuracy=',averageaccuracy(L_Accu_Test))"
   ]
  },
  {
   "cell_type": "markdown",
   "metadata": {},
   "source": [
    "# Neural network(MNIST)"
   ]
  },
  {
   "cell_type": "code",
   "execution_count": 22,
   "metadata": {},
   "outputs": [
    {
     "name": "stdout",
     "output_type": "stream",
     "text": [
      "start now:\n",
      "loss= 0.25248564515709876\n",
      "accuracy= 0.9323\n",
      "(10000,)\n",
      "(10000,)\n",
      "confusion matrix of Neural Network:\n"
     ]
    },
    {
     "data": {
      "image/png": "[encoded data removed]",
      "text/plain": [
       "<Figure size 432x288 with 2 Axes>"
      ]
     },
     "metadata": {
      "needs_background": "light"
     },
     "output_type": "display_data"
    }
   ],
   "source": [
    "import keras\n",
    "import pandas as pd\n",
    "from keras.datasets import mnist\n",
    "from keras.layers import Dense\n",
    "from keras.models import Sequential\n",
    "import matplotlib.pyplot\n",
    "from matplotlib import pyplot as plt\n",
    "\n",
    "print(\"start now:\")\n",
    "(x_train,y_train),(x_test,y_test)=mnist.load_data()\n",
    "x_train=x_train.reshape(x_train.shape[0],784)\n",
    "x_test=x_test.reshape(x_test.shape[0],784)\n",
    "num_classes=10\n",
    "y_train=keras.utils.to_categorical(y_train,num_classes)\n",
    "ytt_test=keras.utils.to_categorical(y_test,num_classes)\n",
    "\n",
    "image_size=784 \n",
    "model=Sequential()\n",
    "model.add(Dense(units=64,activation='sigmoid',input_shape=(image_size,)))\n",
    "model.add(Dense(units=num_classes,activation='softmax'))\n",
    "model.compile(optimizer='sgd',loss='categorical_crossentropy',metrics=['accuracy'])\n",
    "\n",
    "history=model.fit(x_train,y_train,batch_size=128,epochs=20,verbose=False,validation_split=.1)\n",
    "loss,accuracy=model.evaluate(x_test,ytt_test,verbose=False)#\n",
    "\n",
    "\n",
    "print(\"loss=\",loss)\n",
    "print(\"accuracy=\",accuracy)\n",
    "\n",
    "import matplotlib.pyplot as plt\n",
    "import numpy as np\n",
    "from sklearn.metrics import confusion_matrix\n",
    "y_true=y_test\n",
    "y_pred=model.predict_classes(x_test)\n",
    "\n",
    "print(y_true.shape)\n",
    "print(y_pred.shape)\n",
    "#混淆矩阵\n",
    "print(\"confusion matrix of Neural Network:\")\n",
    "confusion_mat=confusion_matrix(y_true,y_pred)\n",
    "\n",
    "def plot_confusion_matrix(confusion_mat):\n",
    "    plt.imshow(confusion_mat,interpolation='nearest',cmap=plt.cm.Paired)\n",
    "    plt.title('Confusion Matrix')\n",
    "    plt.colorbar()\n",
    "    marks=np.arange(10)\n",
    "    plt.xticks(marks,marks)\n",
    "    plt.yticks(marks,marks)\n",
    "    plt.ylabel('True Label')\n",
    "    plt.xlabel('Predicted Label')\n",
    "    plt.show()\n",
    "    \n",
    "plot_confusion_matrix(confusion_mat)\n",
    "plt.show()"
   ]
  },
  {
   "cell_type": "markdown",
   "metadata": {},
   "source": [
    "# Neural network(USPS testing)"
   ]
  },
  {
   "cell_type": "code",
   "execution_count": 24,
   "metadata": {},
   "outputs": [
    {
     "name": "stdout",
     "output_type": "stream",
     "text": [
      "start now:\n",
      "loss= 2.036344950351365\n",
      "accuracy= 0.2811640582029101\n",
      "confusion matrix of Neural Network:\n"
     ]
    },
    {
     "data": {
      "image/png": "[encoded data removed]",
      "text/plain": [
       "<Figure size 432x288 with 2 Axes>"
      ]
     },
     "metadata": {
      "needs_background": "light"
     },
     "output_type": "display_data"
    }
   ],
   "source": [
    "import keras\n",
    "import pandas as pd\n",
    "from keras.datasets import mnist\n",
    "from keras.layers import Dense\n",
    "from keras.models import Sequential\n",
    "import matplotlib.pyplot\n",
    "from matplotlib import pyplot as plt\n",
    "\n",
    "print(\"start now:\")\n",
    "u_test=np.array(USPSMat)\n",
    "ut_test=np.array(USPSTar)\n",
    "u_test=u_test.reshape(u_test.shape[0],784)\n",
    "utt_test=keras.utils.to_categorical(ut_test,num_classes)\n",
    "\n",
    "(x_train,y_train),(x_test,y_test)=mnist.load_data()\n",
    "x_train=x_train.reshape(x_train.shape[0],784)\n",
    "x_test=x_test.reshape(x_test.shape[0],784)\n",
    "num_classes=10\n",
    "y_train=keras.utils.to_categorical(y_train,num_classes)\n",
    "y_test=keras.utils.to_categorical(y_test,num_classes)\n",
    "\n",
    "image_size=784 \n",
    "model=Sequential()\n",
    "model.add(Dense(units=64,activation='sigmoid',input_shape=(image_size,)))\n",
    "model.add(Dense(units=num_classes,activation='softmax'))\n",
    "model.compile(optimizer='sgd',loss='categorical_crossentropy',metrics=['accuracy'])\n",
    "\n",
    "history=model.fit(x_train,y_train,batch_size=128,epochs=20,verbose=False,validation_split=.1)\n",
    "loss,accuracy=model.evaluate(u_test,utt_test,verbose=False)#\n",
    "\n",
    "print(\"loss=\",loss)\n",
    "print(\"accuracy=\",accuracy)\n",
    "\n",
    "import matplotlib.pyplot as plt\n",
    "import numpy as np\n",
    "from sklearn.metrics import confusion_matrix\n",
    "y_true=ut_test\n",
    "y_pred=model.predict_classes(u_test)\n",
    "\n",
    "#混淆矩阵\n",
    "print(\"confusion matrix of Neural Network:\")\n",
    "confusion_mat=confusion_matrix(y_true,y_pred)\n",
    "\n",
    "def plot_confusion_matrix(confusion_mat):\n",
    "    plt.imshow(confusion_mat,interpolation='nearest',cmap=plt.cm.Paired)\n",
    "    plt.title('Confusion Matrix')\n",
    "    plt.colorbar()\n",
    "    tick_marks=np.arange(10)\n",
    "    plt.xticks(tick_marks,tick_marks)\n",
    "    plt.yticks(tick_marks,tick_marks)\n",
    "    plt.ylabel('True Label')\n",
    "    plt.xlabel('Predicted Label')\n",
    "    plt.show()\n",
    "\n",
    "plot_confusion_matrix(confusion_mat)\n",
    "plt.show()"
   ]
  },
  {
   "cell_type": "markdown",
   "metadata": {},
   "source": [
    "# Neural network(Another different MNIST datasets for training and testing)"
   ]
  },
  {
   "cell_type": "code",
   "execution_count": 23,
   "metadata": {},
   "outputs": [
    {
     "name": "stdout",
     "output_type": "stream",
     "text": [
      "WARNING:tensorflow:From <ipython-input-23-8ae089e8050a>:5: read_data_sets (from tensorflow.contrib.learn.python.learn.datasets.mnist) is deprecated and will be removed in a future version.\n",
      "Instructions for updating:\n",
      "Please use alternatives such as official/mnist/dataset.py from tensorflow/models.\n",
      "WARNING:tensorflow:From S:\\Anaconda\\lib\\site-packages\\tensorflow\\contrib\\learn\\python\\learn\\datasets\\mnist.py:260: maybe_download (from tensorflow.contrib.learn.python.learn.datasets.base) is deprecated and will be removed in a future version.\n",
      "Instructions for updating:\n",
      "Please write your own downloading logic.\n",
      "WARNING:tensorflow:From S:\\Anaconda\\lib\\site-packages\\tensorflow\\contrib\\learn\\python\\learn\\datasets\\mnist.py:262: extract_images (from tensorflow.contrib.learn.python.learn.datasets.mnist) is deprecated and will be removed in a future version.\n",
      "Instructions for updating:\n",
      "Please use tf.data to implement this functionality.\n",
      "Extracting MNIST_data/train-images-idx3-ubyte.gz\n",
      "WARNING:tensorflow:From S:\\Anaconda\\lib\\site-packages\\tensorflow\\contrib\\learn\\python\\learn\\datasets\\mnist.py:267: extract_labels (from tensorflow.contrib.learn.python.learn.datasets.mnist) is deprecated and will be removed in a future version.\n",
      "Instructions for updating:\n",
      "Please use tf.data to implement this functionality.\n",
      "Extracting MNIST_data/train-labels-idx1-ubyte.gz\n",
      "WARNING:tensorflow:From S:\\Anaconda\\lib\\site-packages\\tensorflow\\contrib\\learn\\python\\learn\\datasets\\mnist.py:110: dense_to_one_hot (from tensorflow.contrib.learn.python.learn.datasets.mnist) is deprecated and will be removed in a future version.\n",
      "Instructions for updating:\n",
      "Please use tf.one_hot on tensors.\n",
      "Extracting MNIST_data/t10k-images-idx3-ubyte.gz\n",
      "Extracting MNIST_data/t10k-labels-idx1-ubyte.gz\n",
      "WARNING:tensorflow:From S:\\Anaconda\\lib\\site-packages\\tensorflow\\contrib\\learn\\python\\learn\\datasets\\mnist.py:290: DataSet.__init__ (from tensorflow.contrib.learn.python.learn.datasets.mnist) is deprecated and will be removed in a future version.\n",
      "Instructions for updating:\n",
      "Please use alternatives such as official/mnist/dataset.py from tensorflow/models.\n",
      "_________________________________________________________________\n",
      "Layer (type)                 Output Shape              Param #   \n",
      "=================================================================\n",
      "dense_15 (Dense)             (None, 512)               401920    \n",
      "_________________________________________________________________\n",
      "dropout_1 (Dropout)          (None, 512)               0         \n",
      "_________________________________________________________________\n",
      "dense_16 (Dense)             (None, 10)                5130      \n",
      "=================================================================\n",
      "Total params: 407,050\n",
      "Trainable params: 407,050\n",
      "Non-trainable params: 0\n",
      "_________________________________________________________________\n",
      "Train on 55000 samples, validate on 10000 samples\n",
      "Epoch 1/20\n",
      " - 3s - loss: 1.4362 - acc: 0.6790 - val_loss: 0.7428 - val_acc: 0.8311\n",
      "Epoch 2/20\n",
      " - 3s - loss: 0.5818 - acc: 0.8499 - val_loss: 0.4439 - val_acc: 0.8860\n",
      "Epoch 3/20\n",
      " - 3s - loss: 0.4203 - acc: 0.8834 - val_loss: 0.3581 - val_acc: 0.9015\n",
      "Epoch 4/20\n",
      " - 3s - loss: 0.3630 - acc: 0.8962 - val_loss: 0.3229 - val_acc: 0.9086\n",
      "Epoch 5/20\n",
      " - 3s - loss: 0.3327 - acc: 0.9040 - val_loss: 0.2993 - val_acc: 0.9152\n",
      "Epoch 6/20\n",
      " - 3s - loss: 0.3108 - acc: 0.9102 - val_loss: 0.2821 - val_acc: 0.9195\n",
      "Epoch 7/20\n",
      " - 3s - loss: 0.2922 - acc: 0.9151 - val_loss: 0.2725 - val_acc: 0.9210\n",
      "Epoch 8/20\n",
      " - 3s - loss: 0.2780 - acc: 0.9191 - val_loss: 0.2551 - val_acc: 0.9258\n",
      "Epoch 9/20\n",
      " - 3s - loss: 0.2654 - acc: 0.9228 - val_loss: 0.2454 - val_acc: 0.9304\n",
      "Epoch 10/20\n",
      " - 3s - loss: 0.2519 - acc: 0.9265 - val_loss: 0.2378 - val_acc: 0.9294\n",
      "Epoch 11/20\n",
      " - 3s - loss: 0.2403 - acc: 0.9302 - val_loss: 0.2226 - val_acc: 0.9354\n",
      "Epoch 12/20\n",
      " - 3s - loss: 0.2300 - acc: 0.9331 - val_loss: 0.2125 - val_acc: 0.9395\n",
      "Epoch 13/20\n",
      " - 3s - loss: 0.2185 - acc: 0.9359 - val_loss: 0.2053 - val_acc: 0.9404\n",
      "Epoch 14/20\n",
      " - 3s - loss: 0.2089 - acc: 0.9389 - val_loss: 0.1958 - val_acc: 0.9425\n",
      "Epoch 15/20\n",
      " - 3s - loss: 0.2007 - acc: 0.9414 - val_loss: 0.1896 - val_acc: 0.9449\n",
      "Epoch 16/20\n",
      " - 3s - loss: 0.1928 - acc: 0.9446 - val_loss: 0.1805 - val_acc: 0.9470\n",
      "Epoch 17/20\n",
      " - 3s - loss: 0.1842 - acc: 0.9467 - val_loss: 0.1749 - val_acc: 0.9479\n",
      "Epoch 18/20\n",
      " - 3s - loss: 0.1781 - acc: 0.9487 - val_loss: 0.1682 - val_acc: 0.9500\n",
      "Epoch 19/20\n",
      " - 3s - loss: 0.1715 - acc: 0.9505 - val_loss: 0.1634 - val_acc: 0.9522\n",
      "Epoch 20/20\n",
      " - 3s - loss: 0.1647 - acc: 0.9523 - val_loss: 0.1575 - val_acc: 0.9538\n",
      "Test loss: 0.15750841538459062\n",
      "Test accuracy: 0.9538\n"
     ]
    }
   ],
   "source": [
    "from keras.models import Sequential\n",
    "from keras.layers import Dense,Dropout\n",
    "from keras.optimizers import RMSprop\n",
    "from tensorflow.examples.tutorials.mnist import input_data\n",
    "mnist=input_data.read_data_sets('MNIST_data/',one_hot=True)\n",
    "\n",
    "#Preprocessing\n",
    "train_labels=mnist.train.labels\n",
    "test_labels=mnist.test.labels\n",
    "train_images=mnist.train.images.reshape(55000,784)\n",
    "test_images=mnist.test.images.reshape(10000,784)\n",
    "train_images=train_images.astype('float32')\n",
    "test_images=test_images.astype('float32')\n",
    "train_images/=255\n",
    "test_images/=255\n",
    "\n",
    "#Construct neural network\n",
    "model=Sequential()\n",
    "model.add(Dense(512,activation='relu',input_shape=(784,)))\n",
    "model.add(Dropout(0.2))  #discard 20% datas\n",
    "model.add(Dense(10,activation='softmax'))\n",
    "model.summary()\n",
    "\n",
    "#Set loss function and youhua method\n",
    "model.compile(loss='categorical_crossentropy',optimizer=RMSprop(),metrics=['accuracy'])\n",
    "\n",
    "#Train model\n",
    "history=model.fit(train_images,train_labels,batch_size=100,epochs=20,verbose=2,validation_data=(test_images,test_labels))\n",
    "\n",
    "score=model.evaluate(test_images,test_labels,verbose=0)\n",
    "print(\"Test loss:\",score[0])\n",
    "print(\"Test accuracy:\",score[1])"
   ]
  },
  {
   "cell_type": "markdown",
   "metadata": {},
   "source": [
    "# SVM (sklearn)(rbf,gamma=0.05)"
   ]
  },
  {
   "cell_type": "code",
   "execution_count": null,
   "metadata": {},
   "outputs": [
    {
     "name": "stderr",
     "output_type": "stream",
     "text": [
      "S:\\Anaconda\\lib\\site-packages\\sklearn\\utils\\deprecation.py:77: DeprecationWarning: Function fetch_mldata is deprecated; fetch_mldata was deprecated in version 0.20 and will be removed in version 0.22\n",
      "  warnings.warn(msg, category=DeprecationWarning)\n",
      "S:\\Anaconda\\lib\\site-packages\\sklearn\\utils\\deprecation.py:77: DeprecationWarning: Function mldata_filename is deprecated; mldata_filename was deprecated in version 0.20 and will be removed in version 0.22\n",
      "  warnings.warn(msg, category=DeprecationWarning)\n"
     ]
    }
   ],
   "source": [
    "import numpy as np\n",
    "from sklearn.svm import SVC\n",
    "from sklearn.ensemble import RandomForestClassifier\n",
    "from sklearn.datasets import fetch_mldata\n",
    "\n",
    "mnist=fetch_mldata('MNIST original')\n",
    "n_train=60000\n",
    "n_test=10000\n",
    "indices=np.arange(len(mnist.data))\n",
    "train_idx=np.arange(0,n_train)\n",
    "test_idx=np.arange(n_train+1,n_train+n_test)\n",
    "\n",
    "X_train=mnist.data[train_idx]\n",
    "y_train=mnist.target[train_idx]\n",
    "X_test=mnist.data[test_idx]\n",
    "y_test=mnist.target[test_idx]\n",
    "\n",
    "classifier1=SVC(kernel='rbf',C=2,gamma=0.05);\n",
    "classifier1.fit(X_train,y_train)\n",
    "\n",
    "print(\"SVM prediction =\",classifier1.predict(x_test))\n",
    "print(\"SVM accuracy=\",classifier1.score(x_test,y_test))\n"
   ]
  },
  {
   "cell_type": "code",
   "execution_count": null,
   "metadata": {},
   "outputs": [],
   "source": [
    "SVMprediction=classifier1.predict(x_test)"
   ]
  },
  {
   "cell_type": "markdown",
   "metadata": {},
   "source": [
    "SVM sample:\n",
    "import numpy as np\n",
    ">>> X = np.array([[-1, -1], [-2, -1], [1, 1], [2, 1]])\n",
    ">>> y = np.array([1, 1, 2, 2])\n",
    ">>> from sklearn.svm import SVC\n",
    ">>> clf = SVC(gamma='auto')\n",
    ">>> clf.fit(X, y) \n",
    "SVC(C=1.0, cache_size=200, class_weight=None, coef0=0.0,\n",
    "    decision_function_shape='ovr', degree=3, gamma='auto', kernel='rbf',\n",
    "    max_iter=-1, probability=False, random_state=None, shrinking=True,\n",
    "    tol=0.001, verbose=False)\n",
    ">>> print(clf.predict([[-0.8, -1]]))\n",
    "[1]\n",
    "\n",
    "Specifies the kernel type to be used in the algorithm. It must be one of ‘linear’, ‘poly’, ‘rbf’, ‘sigmoid’, ‘precomputed’ or a callable. If none is given, ‘rbf’ will be used. If a callable is given it is used to pre-compute the kernel matrix from data matrices; that matrix should be an array of shape (n_samples, n_samples)."
   ]
  },
  {
   "cell_type": "markdown",
   "metadata": {},
   "source": [
    "# SVM (rbf,gamma=1)"
   ]
  },
  {
   "cell_type": "code",
   "execution_count": null,
   "metadata": {},
   "outputs": [],
   "source": [
    "import numpy as np\n",
    "from sklearn.svm import SVC\n",
    "from sklearn.ensemble import RandomForestClassifier\n",
    "from sklearn.datasets import fetch_mldata\n",
    "\n",
    "mnist=fetch_mldata('MNIST original')\n",
    "n_train=60000\n",
    "n_test=10000\n",
    "indices=np.arange(len(mnist.data))\n",
    "train_idx=np.arange(0,n_train)\n",
    "test_idx=np.arange(n_train+1,n_train+n_test)\n",
    "\n",
    "x_train=mnist.data[train_idx]\n",
    "y_train=mnist.target[train_idx]\n",
    "x_test=mnist.data[test_idx]\n",
    "y_test=mnist.target[test_idx]\n",
    "#SVM\n",
    "classifier1=SVC(kernel='rbf',C=2,gamma=1);\n",
    "classifier1.fit(x_train,y_train)\n",
    "\n",
    "print(\"SVM prediction =\",classifier1.predict(x_test))\n",
    "print(\"SVM accuracy=\",classifier1.score(x_test,y_test))"
   ]
  },
  {
   "cell_type": "markdown",
   "metadata": {},
   "source": [
    "# SVM (linear,gamma=1)"
   ]
  },
  {
   "cell_type": "code",
   "execution_count": null,
   "metadata": {},
   "outputs": [
    {
     "name": "stderr",
     "output_type": "stream",
     "text": [
      "S:\\Anaconda\\lib\\site-packages\\sklearn\\utils\\deprecation.py:77: DeprecationWarning: Function fetch_mldata is deprecated; fetch_mldata was deprecated in version 0.20 and will be removed in version 0.22\n",
      "  warnings.warn(msg, category=DeprecationWarning)\n",
      "S:\\Anaconda\\lib\\site-packages\\sklearn\\utils\\deprecation.py:77: DeprecationWarning: Function mldata_filename is deprecated; mldata_filename was deprecated in version 0.20 and will be removed in version 0.22\n",
      "  warnings.warn(msg, category=DeprecationWarning)\n"
     ]
    }
   ],
   "source": [
    "import numpy as np\n",
    "from sklearn.svm import SVC\n",
    "from sklearn.ensemble import RandomForestClassifier\n",
    "from sklearn.datasets import fetch_mldata\n",
    "\n",
    "mnist=fetch_mldata('MNIST original')\n",
    "n_train=60000\n",
    "n_test=10000\n",
    "indices=np.arange(len(mnist.data))\n",
    "train_idx=np.arange(0,n_train)\n",
    "test_idx=np.arange(n_train+1,n_train+n_test)\n",
    "\n",
    "x_train=mnist.data[train_idx]\n",
    "y_train=mnist.target[train_idx]\n",
    "x_test=mnist.data[test_idx]\n",
    "y_test=mnist.target[test_idx]\n",
    "#SVM\n",
    "classifier1=SVC(kernel='linear',C=2,gamma=1);\n",
    "classifier1.fit(x_train,y_train)\n",
    "\n",
    "print(\"SVM prediction =\",classifier1.predict(x_test))\n",
    "print(\"SVM accuracy=\",classifier1.score(x_test,y_test))"
   ]
  },
  {
   "cell_type": "markdown",
   "metadata": {},
   "source": [
    "# Random Forest(sklearn)with MNIST"
   ]
  },
  {
   "cell_type": "code",
   "execution_count": 7,
   "metadata": {},
   "outputs": [
    {
     "name": "stderr",
     "output_type": "stream",
     "text": [
      "S:\\Anaconda\\lib\\site-packages\\sklearn\\utils\\deprecation.py:77: DeprecationWarning: Function fetch_mldata is deprecated; fetch_mldata was deprecated in version 0.20 and will be removed in version 0.22\n",
      "  warnings.warn(msg, category=DeprecationWarning)\n",
      "S:\\Anaconda\\lib\\site-packages\\sklearn\\utils\\deprecation.py:77: DeprecationWarning: Function mldata_filename is deprecated; mldata_filename was deprecated in version 0.20 and will be removed in version 0.22\n",
      "  warnings.warn(msg, category=DeprecationWarning)\n"
     ]
    },
    {
     "name": "stdout",
     "output_type": "stream",
     "text": [
      "Random Forest prediction= [0. 0. 0. ... 9. 9. 9.]\n",
      "Random Forest accuracy= 0.9605960596059606\n",
      "confusion matrix of Random Forest:\n"
     ]
    },
    {
     "data": {
      "image/png": "[encoded data removed]",
      "text/plain": [
       "<Figure size 432x288 with 2 Axes>"
      ]
     },
     "metadata": {
      "needs_background": "light"
     },
     "output_type": "display_data"
    }
   ],
   "source": [
    "import numpy as np\n",
    "from sklearn.svm import SVC\n",
    "from sklearn.ensemble import RandomForestClassifier\n",
    "from sklearn.datasets import fetch_mldata\n",
    "mnist=fetch_mldata('MNIST original')\n",
    "n_train=60000\n",
    "n_test=10000\n",
    "indices=np.arange(len(mnist.data))\n",
    "train_idx=np.arange(0,n_train)\n",
    "test_idx=np.arange(n_train+1,n_train+n_test)\n",
    "\n",
    "x_train=mnist.data[train_idx]\n",
    "y_train=mnist.target[train_idx]\n",
    "x_test=mnist.data[test_idx]\n",
    "y_test=mnist.target[test_idx]\n",
    "#RandomForest\n",
    "classifier2=RandomForestClassifier(n_estimators=20); #max_depth,min_samples\n",
    "classifier2.fit(x_train,y_train)\n",
    "\n",
    "print(\"Random Forest prediction=\",classifier2.predict(x_test))\n",
    "print(\"Random Forest accuracy=\",classifier2.score(x_test,y_test))\n",
    "\n",
    "import matplotlib.pyplot as plt\n",
    "import numpy as np\n",
    "from sklearn.metrics import confusion_matrix\n",
    "y_true=y_test\n",
    "y_pred=classifier2.predict(x_test)\n",
    "\n",
    "#混淆矩阵\n",
    "print(\"confusion matrix of Random Forest:\")\n",
    "confusion_mat=confusion_matrix(y_true,y_pred)\n",
    "\n",
    "def plot_confusion_matrix(confusion_mat):\n",
    "    plt.imshow(confusion_mat,interpolation='nearest',cmap=plt.cm.Paired)\n",
    "    plt.title('Confusion Matrix')\n",
    "    plt.colorbar()\n",
    "    tick_marks=np.arange(10)\n",
    "    plt.xticks(tick_marks,tick_marks)\n",
    "    plt.yticks(tick_marks,tick_marks)\n",
    "    plt.ylabel('True Label')\n",
    "    plt.xlabel('Predicted Label')\n",
    "    plt.show()\n",
    "    \n",
    "plot_confusion_matrix(confusion_mat)\n",
    "plt.show()"
   ]
  },
  {
   "cell_type": "markdown",
   "metadata": {},
   "source": [
    "# Random Forest(sklearn)with USPS testing"
   ]
  },
  {
   "cell_type": "code",
   "execution_count": 15,
   "metadata": {},
   "outputs": [
    {
     "name": "stderr",
     "output_type": "stream",
     "text": [
      "S:\\Anaconda\\lib\\site-packages\\sklearn\\utils\\deprecation.py:77: DeprecationWarning: Function fetch_mldata is deprecated; fetch_mldata was deprecated in version 0.20 and will be removed in version 0.22\n",
      "  warnings.warn(msg, category=DeprecationWarning)\n",
      "S:\\Anaconda\\lib\\site-packages\\sklearn\\utils\\deprecation.py:77: DeprecationWarning: Function mldata_filename is deprecated; mldata_filename was deprecated in version 0.20 and will be removed in version 0.22\n",
      "  warnings.warn(msg, category=DeprecationWarning)\n"
     ]
    },
    {
     "name": "stdout",
     "output_type": "stream",
     "text": [
      "Random Forest prediction= [5. 1. 7. ... 1. 7. 1.]\n",
      "Random Forest accuracy= 0.1415070753537677\n",
      "confusion matrix of Random Forest:\n"
     ]
    },
    {
     "data": {
      "image/png": "[encoded data removed]",
      "text/plain": [
       "<Figure size 432x288 with 2 Axes>"
      ]
     },
     "metadata": {
      "needs_background": "light"
     },
     "output_type": "display_data"
    }
   ],
   "source": [
    "import numpy as np\n",
    "from sklearn.svm import SVC\n",
    "from sklearn.ensemble import RandomForestClassifier\n",
    "from sklearn.datasets import fetch_mldata\n",
    "import keras\n",
    "import pandas as pd\n",
    "from keras.datasets import mnist\n",
    "from keras.layers import Dense\n",
    "from keras.models import Sequential\n",
    "import matplotlib.pyplot\n",
    "from matplotlib import pyplot as plt\n",
    "mnist=fetch_mldata('MNIST original')\n",
    "n_train=60000\n",
    "n_test=10000\n",
    "indices=np.arange(len(mnist.data))\n",
    "train_idx=np.arange(0,n_train)\n",
    "test_idx=np.arange(n_train+1,n_train+n_test)\n",
    "\n",
    "u_test=np.array(USPSMat)\n",
    "ut_test=np.array(USPSTar)\n",
    "#u_test=u_test.reshape(u_test.shape[0],784)\n",
    "#ut_test=keras.utils.to_categorical(ut_test,10)\n",
    "\n",
    "x_train=mnist.data[train_idx]\n",
    "y_train=mnist.target[train_idx]\n",
    "x_test=mnist.data[test_idx]\n",
    "y_test=mnist.target[test_idx]\n",
    "#RandomForest\n",
    "classifier2=RandomForestClassifier(n_estimators=10); #max_depth,min_samples\n",
    "classifier2.fit(x_train,y_train)\n",
    "\n",
    "print(\"Random Forest prediction=\",classifier2.predict(u_test))\n",
    "print(\"Random Forest accuracy=\",classifier2.score(u_test,ut_test))\n",
    "\n",
    "import matplotlib.pyplot as plt\n",
    "import numpy as np\n",
    "from sklearn.metrics import confusion_matrix\n",
    "y_true=ut_test\n",
    "y_pred=classifier2.predict(u_test)\n",
    "\n",
    "#混淆矩阵\n",
    "print(\"confusion matrix of Random Forest:\")\n",
    "confusion_mat=confusion_matrix(y_true,y_pred)\n",
    "\n",
    "def plot_confusion_matrix(confusion_mat):\n",
    "    plt.imshow(confusion_mat,interpolation='nearest',cmap=plt.cm.Paired)\n",
    "    plt.title('Confusion Matrix')\n",
    "    plt.colorbar()\n",
    "    tick_marks=np.arange(10)\n",
    "    plt.xticks(tick_marks,tick_marks)\n",
    "    plt.yticks(tick_marks,tick_marks)\n",
    "    plt.ylabel('True Label')\n",
    "    plt.xlabel('Predicted Label')\n",
    "    plt.show()\n",
    "    \n",
    "plot_confusion_matrix(confusion_mat)\n",
    "plt.show()"
   ]
  },
  {
   "cell_type": "markdown",
   "metadata": {},
   "source": [
    "# Combining above four models"
   ]
  },
  {
   "cell_type": "markdown",
   "metadata": {},
   "source": [
    "# MNIST"
   ]
  },
  {
   "cell_type": "code",
   "execution_count": 27,
   "metadata": {},
   "outputs": [
    {
     "name": "stdout",
     "output_type": "stream",
     "text": [
      "(50000, 784) (50000,)\n",
      "(10000, 784) (10000,)\n",
      "(10000, 784) (10000,)\n"
     ]
    }
   ],
   "source": [
    "import pickle\n",
    "import gzip\n",
    "\n",
    "filename = 'mnist.pkl.gz'\n",
    "f = gzip.open(filename, 'rb')\n",
    "training_data, validation_data, test_data = pickle.load(f, encoding='latin1')\n",
    "#print(training_data)\n",
    "print(training_data[0].shape,training_data[1].shape)#(Total 2)1th:50000*784,2nd:list(50000,)\n",
    "print(validation_data[0].shape,validation_data[1].shape)#(Total 2)1th:10000*784,2nd:list(10000,)\n",
    "print(test_data[0].shape,test_data[1].shape)#(Total 2)1th:10000*784,2nd:list(10000,)\n",
    "f.close()"
   ]
  },
  {
   "cell_type": "code",
   "execution_count": null,
   "metadata": {},
   "outputs": [],
   "source": [
    "import numpy as np\n",
    "from sklearn.ensemble import RandomForestClassifier\n",
    "import matplotlib.pyplot as plt\n",
    "from sklearn.datasets import fetch_mldata\n",
    "mnist=fetch_mldata('MNIST original')\n",
    "\n",
    "n_train=1000\n",
    "n_test=1000\n",
    "indices=np.arange(len(mnist.data))\n",
    "train_idx=np.arange(0,n_train)\n",
    "test_idx=np.arange(n_train+1,n_train+n_test)\n",
    "\n",
    "X_train=mnist.data[train_idx]\n",
    "y_train=mnist.target[train_idx]\n",
    "X_test=mnist.data[test_idx]\n",
    "y_test=mnist.target[test_idx]"
   ]
  },
  {
   "cell_type": "code",
   "execution_count": 48,
   "metadata": {},
   "outputs": [
    {
     "name": "stdout",
     "output_type": "stream",
     "text": [
      "Accuracy of Logistic regression = 0.864\n",
      "Accuracy of SVM = 0.888\n",
      "Accuracy of DecisionTree = 0.84\n",
      "Accuracy of DecisionTree = 0.912\n",
      "Logistic regression prediction is: [1 0 0 1 1 1 0 0 0 0 1 0 1 1 1 0 0 1 1 0 0 1 1 0 0 0 1 0 1 0 1 1 0 0 1 1 0\n",
      " 1 1 1 1 1 1 0 0 0 1 0 1 0 0 1 0 0 0 0 0 1 0 1 0 1 1 0 1 0 0 1 0 1 0 0 1 1\n",
      " 0 0 1 1 0 0 1 0 0 1 1 1 1 0 1 1 1 0 0 0 0 1 0 1 0 1 0 1 1 0 0 0 0 0 1 1 1\n",
      " 0 0 0 0 0 0 0 0 1 1 1 0 0 0]\n",
      "SVM prediction is: [0 0 0 1 1 1 0 0 0 0 1 0 1 1 1 0 0 1 1 0 0 1 0 0 0 0 1 0 1 0 1 1 0 0 1 0 0\n",
      " 1 1 1 0 1 0 0 0 0 1 0 1 0 1 1 0 0 0 0 0 1 0 1 0 1 1 0 1 0 0 0 0 1 0 0 1 1\n",
      " 0 0 1 1 0 0 1 1 0 0 1 1 1 0 1 1 1 0 0 0 0 1 0 1 0 1 0 1 1 0 0 0 0 0 1 1 0\n",
      " 0 0 1 0 0 0 0 0 1 1 1 0 0 0]\n",
      "DesionForest prediction is: [1 0 1 1 1 0 0 0 0 0 1 0 1 1 1 0 0 1 0 0 0 1 1 0 0 1 1 0 1 0 1 1 1 0 1 0 0\n",
      " 1 1 1 0 1 0 0 0 1 0 1 1 1 1 1 0 0 1 0 1 1 0 1 0 1 1 0 1 0 0 0 0 1 0 0 1 0\n",
      " 0 0 1 1 0 0 1 1 1 0 1 0 0 0 1 1 1 0 0 0 0 1 0 0 1 1 0 1 1 0 0 0 0 0 0 1 0\n",
      " 0 0 1 1 0 0 0 0 1 1 1 0 0 1]\n",
      "Neural network prediction is: [1 0 0 1 1 1 0 0 0 0 1 0 1 1 1 0 0 1 1 0 0 1 1 0 0 0 1 0 1 0 1 1 0 0 1 0 0\n",
      " 1 1 1 0 1 0 0 0 0 1 1 1 1 1 1 0 0 1 0 1 1 0 1 0 1 1 0 1 0 0 0 0 1 0 0 1 1\n",
      " 0 0 1 1 0 0 1 1 0 0 1 1 1 0 1 1 1 0 0 0 0 1 0 1 0 1 0 1 1 0 0 0 0 0 1 1 0\n",
      " 0 0 1 1 0 0 0 0 1 1 1 0 0 0]\n",
      "125\n",
      "[1 0 0 1 1 1 0 0 0 0 1 0 1 1 1 0 0 1 1 0 0 1 1 0 0 0 1 0 1 0 1 1 0 0 1 0 0\n",
      " 1 1 1 0 1 0 0 0 0 1 0 1 0 1 1 0 0 0 0 0 1 0 1 0 1 1 0 1 0 0 0 0 1 0 0 1 1\n",
      " 0 0 1 1 0 0 1 1 0 0 1 1 1 0 1 1 1 0 0 0 0 1 0 1 0 1 0 1 1 0 0 0 0 0 1 1 0\n",
      " 0 0 1 0 0 0 0 0 1 1 1 0 0 0]\n",
      "Accuracy of Integrated learning= 0.904\n",
      "Combing model prediction is: [1 0 1 0 0 1 1 0 0 1 0 0 1 0 1 1 1 0 1 1 1 1 1 1 0 1 1 0 0 1 1 1 1 0 0 1 1\n",
      " 0 0 0 1 0 1 0 0 0 0 0 1 0 0 0 0 1 0 0 0 0 0 0 1 1 1 1 0 0 1 0 0 1 1 1 1 1\n",
      " 1 1 1 0 1 1 0 0 1 0 1 0 0 1 1 1 1 1 1 1 1 1 0 0 1 0 0 1 0 1 1 0 1 0 1 0 0\n",
      " 1 1 0 1 1 0 0 0 0 0 0 1 0 0 0 1 0 0 1 0 0 1 1 0 0 0 0 0 1 0 0 1 0 1 1 0 0\n",
      " 1 1 0 0 0 0 1 1 0 0 1 0 0 1 1 0 1 1 0 0 1 0 0 0 1 0 0 0 1 0 0 1 1 0 1 1 1\n",
      " 0 1 0 0 0 1 1 1 1 0 0 0 0 0 1 1 0 0 0 0 0 0 0 1 1 1 0 1 1 1 1 1 0 1 0 1 1\n",
      " 0 0 0 1 0 1 1 0 0 0 1 0 1 1 1 0 0 0 1 0 1 0 1 0 0 0 1 0 1 1 1 0 1 1 0 1 0\n",
      " 1 1 0 1 0 0 0 1 0 1 0 0 0 0 1 1 1 1 1 1 0 1 0 1 0 0 1 1 1 1 1 1 1 1 1 0 0\n",
      " 1 1 1 1 1 0 1 0 0 0 1 0 0 0 1 0 1 1 0 1 1 0 1 1 0 1 0 1 0 1 0 0 0 1 0 0 0\n",
      " 0 0 0 1 1 0 0 0 0 1 1 0 0 1 1 0 1 1 1 0 1 1 0 0 1 0 0 0 1 0 0 0 0 1 1 0 1\n",
      " 0 1 0 1 1 0 1 0 0 0 0 1 0 1 1 0 1 0 0 0 1 1 1 0 1 1 1 1 0 0 0 1 1 1 1 1 1\n",
      " 1 1 0 0 0 0 1 0 1 1 0 0 1 0 1 1 0 1 0 0 0 1 1 1 0 1 1 0 1 1 0 0 1 0 1 1 0\n",
      " 1 1 0 1 1 1 0 0 1 0 1 0 1 0 1 0 0 0 0 1 0 1 0 1 1 0 1 1 0 1 1 1 1 1 1 0 0\n",
      " 0 1 0 1 0 1 1 0 1 0 1 0 0 0 0 1 1 1 0]\n",
      "Accuracy of Integrated learning= 0.904\n"
     ]
    },
    {
     "name": "stderr",
     "output_type": "stream",
     "text": [
      "S:\\Anaconda\\lib\\site-packages\\sklearn\\linear_model\\logistic.py:432: FutureWarning: Default solver will be changed to 'lbfgs' in 0.22. Specify a solver to silence this warning.\n",
      "  FutureWarning)\n",
      "S:\\Anaconda\\lib\\site-packages\\sklearn\\svm\\base.py:196: FutureWarning: The default value of gamma will change from 'auto' to 'scale' in version 0.22 to account better for unscaled features. Set gamma explicitly to 'auto' or 'scale' to avoid this warning.\n",
      "  \"avoid this warning.\", FutureWarning)\n"
     ]
    }
   ],
   "source": [
    "import numpy as np\n",
    "import matplotlib.pyplot as plt\n",
    "from sklearn import datasets\n",
    "\n",
    "# n_samples=500：表示生成 500 个样本；默认自动生成 100 个样本；\n",
    "X, y = datasets.make_moons(n_samples=500, noise=0.3, random_state=42)\n",
    "\n",
    "from sklearn.model_selection import train_test_split\n",
    "X_train, X_test, y_train, y_test = train_test_split(X, y, random_state=42)\n",
    "\n",
    "#Logistic regression\n",
    "from sklearn.linear_model import LogisticRegression\n",
    "log_clf = LogisticRegression()\n",
    "log_clf.fit(X_train, y_train)\n",
    "accuracy1=log_clf.score(X_test, y_test)\n",
    "print(\"Accuracy of Logistic regression =\",accuracy1)\n",
    "\n",
    "#SVM\n",
    "from sklearn.svm import SVC\n",
    "svm_clf = SVC()\n",
    "svm_clf.fit(X_train, y_train)\n",
    "accuracy2=svm_clf.score(X_test, y_test)\n",
    "print(\"Accuracy of SVM =\",accuracy2)\n",
    "\n",
    "#DecisionTree\n",
    "from sklearn.tree import DecisionTreeClassifier\n",
    "dt_clf = DecisionTreeClassifier()\n",
    "dt_clf.fit(X_train, y_train)\n",
    "accuracy3=dt_clf.score(X_test, y_test)\n",
    "print(\"Accuracy of DecisionTree =\",accuracy3)\n",
    "\n",
    "#Neural network\n",
    "from sklearn.neural_network import MLPClassifier\n",
    "nn_clf = MLPClassifier(solver='lbfgs', alpha=1e-5,hidden_layer_sizes=(5, 2), random_state=1)\n",
    "nn_clf.fit(X_train, y_train)\n",
    "accuracy4=nn_clf.score(X_test, y_test)\n",
    "print(\"Accuracy of DecisionTree =\",accuracy4)\n",
    "\n",
    "y_predict1 = log_clf.predict(X_test)\n",
    "y_predict2 = svm_clf.predict(X_test)\n",
    "y_predict3 = dt_clf.predict(X_test)\n",
    "y_predict4 = nn_clf.predict(X_test)\n",
    "print(\"Logistic regression prediction is:\",y_predict1)\n",
    "print(\"SVM prediction is:\",y_predict2)\n",
    "print(\"DesionForest prediction is:\",y_predict3)\n",
    "print(\"Neural network prediction is:\",y_predict4)\n",
    "print(len(y_predict1))\n",
    "\n",
    "y_predict = np.array((y_predict1 + y_predict2 + y_predict3+y_predict4) >= 3, dtype='int')\n",
    "print(y_predict)\n",
    "\n",
    "from sklearn.metrics import accuracy_score\n",
    "accuracy4=accuracy_score(y_test, y_predict)\n",
    "print(\"Accuracy of Integrated learning=\",accuracy4)\n",
    "print(\"Combing model prediction is:\",y)\n",
    "\n",
    "from sklearn.metrics import accuracy_score\n",
    "accuracy=accuracy_score(y_test, y_predict)\n",
    "print(\"Accuracy of Integrated learning=\",accuracy)"
   ]
  },
  {
   "cell_type": "markdown",
   "metadata": {},
   "source": [
    "# Neural network SKlearn(another cancer example)"
   ]
  },
  {
   "cell_type": "code",
   "execution_count": null,
   "metadata": {},
   "outputs": [],
   "source": [
    "from sklearn.datasets import load_breast_cancer\n",
    "cancer = load_breast_cancer()\n",
    "\n",
    "cancer.keys()\n",
    "\n",
    "# Print full description by running:\n",
    "# print(cancer['DESCR'])\n",
    "# 569 data points with 30 features\n",
    "cancer['data'].shape\n",
    "\n",
    "X = cancer['data']\n",
    "y = cancer['target']\n",
    "\n",
    "from sklearn.model_selection import train_test_split\n",
    "X_train, X_test, y_train, y_test = train_test_split(X, y)\n",
    "\n",
    "from sklearn.preprocessing import StandardScaler\n",
    "scaler = StandardScaler()\n",
    "# Fit only to the training data\n",
    "scaler.fit(X_train)\n",
    "\n",
    "# Now apply the transformations to the data:\n",
    "X_train = scaler.transform(X_train)\n",
    "X_test = scaler.transform(X_test)\n",
    "\n",
    "#Training the model\n",
    "from sklearn.neural_network import MLPClassifier\n",
    "\n",
    "mlp = MLPClassifier(hidden_layer_sizes=(30,30,30))\n",
    "mlp.fit(X_train,y_train)\n",
    "\n",
    "#Prediction and evaluation\n",
    "predictions = mlp.predict(X_test)\n",
    "from sklearn.metrics import classification_report,confusion_matrix\n",
    "print(confusion_matrix(y_test,predictions))\n",
    "print(classification_report(y_test,predictions))"
   ]
  },
  {
   "cell_type": "code",
   "execution_count": null,
   "metadata": {},
   "outputs": [],
   "source": []
  }
 ],
 "metadata": {
  "kernelspec": {
   "display_name": "Python 3",
   "language": "python",
   "name": "python3"
  },
  "language_info": {
   "codemirror_mode": {
    "name": "ipython",
    "version": 3
   },
   "file_extension": ".py",
   "mimetype": "text/x-python",
   "name": "python",
   "nbconvert_exporter": "python",
   "pygments_lexer": "ipython3",
   "version": "3.6.7"
  }
 },
 "nbformat": 4,
 "nbformat_minor": 2
}
